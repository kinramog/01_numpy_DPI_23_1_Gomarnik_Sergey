{
  "cells": [
    {
      "cell_type": "markdown",
      "metadata": {
        "id": "kYL2eGN5xBmX"
      },
      "source": [
        "# Numpy"
      ]
    },
    {
      "cell_type": "markdown",
      "metadata": {
        "id": "CY3rBuT1xBmY"
      },
      "source": [
        "Материалы:\n",
        "* Макрушин С.В. \"Лекция 1: Библиотека Numpy\"\n",
        "* https://numpy.org/doc/stable/user/index.html\n",
        "* https://numpy.org/doc/stable/reference/index.html"
      ]
    },
    {
      "cell_type": "markdown",
      "metadata": {
        "id": "8BGdRxvpxBmZ"
      },
      "source": [
        "## Задачи для совместного разбора"
      ]
    },
    {
      "cell_type": "markdown",
      "metadata": {
        "id": "5e9jBmEKxBmZ"
      },
      "source": [
        "1. Сгенерировать двухмерный массив `arr` размерности (4, 7), состоящий из случайных действительных чисел, равномерно распределенных в диапазоне от 0 до 20. Нормализовать значения массива с помощью преобразования вида  $𝑎𝑥+𝑏$  так, что после нормализации максимальный элемент масcива будет равен 1.0, минимальный 0.0"
      ]
    },
    {
      "cell_type": "code",
      "execution_count": 2,
      "metadata": {
        "id": "Lk7bz_AzxBmZ"
      },
      "outputs": [],
      "source": [
        "import numpy as np"
      ]
    },
    {
      "cell_type": "code",
      "source": [
        "data = np.random.uniform(0, 20, size=(4, 7))\n",
        "print(data, end=\"\\n\\n\")\n",
        "\n",
        "(data-np.min(data)) / (np.max(data)-np.min(data))"
      ],
      "metadata": {
        "colab": {
          "base_uri": "https://localhost:8080/"
        },
        "id": "PK5o719_2N6e",
        "outputId": "32228bfc-9048-402d-f42e-d00b3fb3e7d9"
      },
      "execution_count": 3,
      "outputs": [
        {
          "output_type": "stream",
          "name": "stdout",
          "text": [
            "[[16.80578477  8.5526949  16.09422484  1.28416393 14.16894145  2.88569845\n",
            "  14.86488348]\n",
            " [12.4351037  10.46122937 14.13402667 12.02409294  1.35346654  7.79894244\n",
            "  10.23914488]\n",
            " [ 4.06716928  3.34729979  3.9311781  12.70568392 19.64325655  5.37657921\n",
            "  13.62344106]\n",
            " [ 6.16789804 18.40622149  3.783002   19.74817978 15.87131807  9.59852148\n",
            "  12.96459402]]\n",
            "\n"
          ]
        },
        {
          "output_type": "execute_result",
          "data": {
            "text/plain": [
              "array([[0.84064165, 0.39365927, 0.802104  , 0.        , 0.69783181,\n",
              "        0.08673815, 0.73552361],\n",
              "       [0.6039282 , 0.49702435, 0.69594084, 0.5816681 , 0.00375339,\n",
              "        0.35283649, 0.48499639],\n",
              "       [0.1507259 , 0.1117382 , 0.1433607 , 0.61858266, 0.99431742,\n",
              "        0.22164275, 0.66828783],\n",
              "       [0.2645001 , 0.92732035, 0.13533557, 1.        , 0.7900315 ,\n",
              "        0.45030061, 0.63260507]])"
            ]
          },
          "metadata": {},
          "execution_count": 3
        }
      ]
    },
    {
      "cell_type": "markdown",
      "metadata": {
        "id": "Qy3vLETpxBma"
      },
      "source": [
        "2. Создать матрицу 8 на 10 из случайных целых (используя модуль `numpy.random`) чисел из диапозона от 0 до 10 и найти в ней строку (ее индекс и вывести саму строку), в которой сумма значений минимальна."
      ]
    },
    {
      "cell_type": "code",
      "source": [
        "arr = np.random.randint(0, 10, size=(8, 10))\n",
        "print(arr)\n",
        "\n",
        "print(\"Row Index\", np.argmin(np.sum(arr, axis=1)))\n",
        "arr[np.argmin(np.sum(arr, axis=1))]"
      ],
      "metadata": {
        "colab": {
          "base_uri": "https://localhost:8080/"
        },
        "id": "V62gwmXE3LlN",
        "outputId": "a37b7e9c-c3c8-451b-c449-df5db7d14022"
      },
      "execution_count": 4,
      "outputs": [
        {
          "output_type": "stream",
          "name": "stdout",
          "text": [
            "[[1 9 8 1 7 5 3 4 3 4]\n",
            " [6 6 5 9 4 4 6 6 0 0]\n",
            " [9 5 3 6 5 3 6 0 9 9]\n",
            " [7 3 5 7 2 0 8 0 4 0]\n",
            " [8 8 9 6 1 5 0 3 1 1]\n",
            " [8 1 0 6 0 1 8 1 9 3]\n",
            " [8 2 6 0 4 0 0 6 4 0]\n",
            " [5 4 1 4 7 1 3 1 2 9]]\n",
            "Row Index 6\n"
          ]
        },
        {
          "output_type": "execute_result",
          "data": {
            "text/plain": [
              "array([8, 2, 6, 0, 4, 0, 0, 6, 4, 0])"
            ]
          },
          "metadata": {},
          "execution_count": 4
        }
      ]
    },
    {
      "cell_type": "markdown",
      "metadata": {
        "id": "rIBVsF3OxBma"
      },
      "source": [
        "3. Найти евклидово расстояние между двумя одномерными векторами одинаковой размерности."
      ]
    },
    {
      "cell_type": "code",
      "source": [
        "point_1 = np.random.randint(0, 20, size=5)\n",
        "point_2 = np.random.randint(0, 20, size=5)\n",
        "print(point_1)\n",
        "print(point_2)\n",
        "#first way\n",
        "square = np.square(point_1 - point_2)\n",
        "sum_square = np.sum(square)\n",
        "print(np.sqrt(sum_square))\n",
        "#second way\n",
        "distance = np.linalg.norm(point_1-point_2)\n",
        "print(distance)"
      ],
      "metadata": {
        "colab": {
          "base_uri": "https://localhost:8080/"
        },
        "id": "LhxbtRXu3M8h",
        "outputId": "1a2eedab-f1f2-4c18-934c-5b86b342cf43"
      },
      "execution_count": 5,
      "outputs": [
        {
          "output_type": "stream",
          "name": "stdout",
          "text": [
            "[17  1 13 13 11]\n",
            "[17  2 11 19  6]\n",
            "8.12403840463596\n",
            "8.12403840463596\n"
          ]
        }
      ]
    },
    {
      "cell_type": "markdown",
      "metadata": {
        "id": "FztlV-6AxBma"
      },
      "source": [
        "4. Решить матричное уравнение `A*X*B=-C` - найти матрицу `X`. Где `A = [[-1, 2, 4], [-3, 1, 2], [-3, 0, 1]]`, `B=[[3, -1], [2, 1]]`, `C=[[7, 21], [11, 8], [8, 4]]`."
      ]
    },
    {
      "cell_type": "code",
      "source": [
        "a = np.array([[-1, 2, 4], [-3, 1, 2], [-3, 0, 1]])\n",
        "b = np.array([[3, -1], [2, 1]])\n",
        "c = np.array([[7, 21], [11, 8], [8, 4]])\n",
        "#x = a^-1*(-c)*b^-1\n",
        "\n",
        "x0 = np.matmul(np.linalg.inv(a),(-c))\n",
        "print(x0)\n",
        "x =  np.matmul(x0,np.linalg.inv(b))\n",
        "print(x)"
      ],
      "metadata": {
        "colab": {
          "base_uri": "https://localhost:8080/"
        },
        "id": "WiahixUr31M9",
        "outputId": "cb3cd4c9-2613-4f27-e273-3309e094204f"
      },
      "execution_count": 6,
      "outputs": [
        {
          "output_type": "stream",
          "name": "stdout",
          "text": [
            "[[ 3. -1.]\n",
            " [-4.  3.]\n",
            " [ 1. -7.]]\n",
            "[[ 1.00000000e+00  5.32907052e-16]\n",
            " [-2.00000000e+00  1.00000000e+00]\n",
            " [ 3.00000000e+00 -4.00000000e+00]]\n"
          ]
        }
      ]
    },
    {
      "cell_type": "markdown",
      "metadata": {
        "id": "cuxuxOWYxBma"
      },
      "source": [
        "## Лабораторная работа №1"
      ]
    },
    {
      "cell_type": "markdown",
      "metadata": {
        "id": "Qrz38WDUxBma"
      },
      "source": [
        "Замечание: при решении данных задач не подразумевается использования циклов или генераторов Python, если в задании не сказано обратного. Решение должно опираться на использования функционала библиотеки `numpy`."
      ]
    },
    {
      "cell_type": "markdown",
      "metadata": {
        "id": "xmisNGs_xBmb"
      },
      "source": [
        "1. Файл `minutes_n_ingredients.csv` содержит информацию об идентификаторе рецепта, времени его выполнения в минутах и количестве необходимых ингредиентов. Считайте данные из этого файла в виде массива `numpy` типа `int32`, используя `np.loadtxt`. Выведите на экран первые 5 строк массива."
      ]
    },
    {
      "cell_type": "code",
      "source": [
        "data = np.loadtxt(\"minutes_n_ingredients.csv\", delimiter=',', skiprows=1, dtype=np.int32)\n",
        "# first 5 rows\n",
        "data[0:5, :]"
      ],
      "metadata": {
        "colab": {
          "base_uri": "https://localhost:8080/"
        },
        "id": "yW00eQ9Y5CKj",
        "outputId": "42ee3a9a-c5e1-45d8-f0e0-19446dc2056e"
      },
      "execution_count": 7,
      "outputs": [
        {
          "output_type": "execute_result",
          "data": {
            "text/plain": [
              "array([[127244,     60,     16],\n",
              "       [ 23891,     25,      7],\n",
              "       [ 94746,     10,      6],\n",
              "       [ 67660,      5,      6],\n",
              "       [157911,     60,     14]], dtype=int32)"
            ]
          },
          "metadata": {},
          "execution_count": 7
        }
      ]
    },
    {
      "cell_type": "markdown",
      "metadata": {
        "id": "SGYDcJb4xBmb"
      },
      "source": [
        "2. Вычислите среднее значение, минимум, максимум и медиану по каждому из столбцов, кроме первого."
      ]
    },
    {
      "cell_type": "code",
      "source": [
        "#делаем срез массива, извлекаем все, кроме первого массива\n",
        "sliced = data[:, 1:]\n",
        "\n",
        "# находим среднее по столбцам среза\n",
        "print(np.mean(sliced, axis=0))\n",
        "# находим минимум по столбцам среза\n",
        "print(np.min(sliced, axis=0))\n",
        "# находим максимум по столбцам среза\n",
        "print(np.max(sliced, axis=0))\n",
        "# находим медиану по столбцам среза\n",
        "print(np.median(sliced, axis=0))"
      ],
      "metadata": {
        "colab": {
          "base_uri": "https://localhost:8080/"
        },
        "id": "-xsTAaMu5Srd",
        "outputId": "41f3e529-6b04-424a-866e-7537f1cce2d6"
      },
      "execution_count": 8,
      "outputs": [
        {
          "output_type": "stream",
          "name": "stdout",
          "text": [
            "[2.16010017e+04 9.05528000e+00]\n",
            "[0 1]\n",
            "[2147483647         39]\n",
            "[40.  9.]\n"
          ]
        }
      ]
    },
    {
      "cell_type": "markdown",
      "metadata": {
        "id": "YUOX5FzYxBmb"
      },
      "source": [
        "3. Ограничьте сверху значения продолжительности выполнения рецепта значением квантиля $q_{0.75}$."
      ]
    },
    {
      "cell_type": "code",
      "source": [
        "# np.clip(data[:, 1], 0, np.quantile(data[:, 1], 0.75, method='higher')) #вариант с семинара\n",
        "\n",
        "quant = np.quantile(data[:, 1], 0.75)\n",
        "cropped_data = data[ data[: , 1] < quant]\n",
        "print(cropped_data)"
      ],
      "metadata": {
        "colab": {
          "base_uri": "https://localhost:8080/"
        },
        "id": "BJfc7UhM5qx0",
        "outputId": "85387844-46bd-4001-9e11-a73670db0936"
      },
      "execution_count": 9,
      "outputs": [
        {
          "output_type": "stream",
          "name": "stdout",
          "text": [
            "[[127244     60     16]\n",
            " [ 23891     25      7]\n",
            " [ 94746     10      6]\n",
            " ...\n",
            " [371794     35      8]\n",
            " [ 43407     35      7]\n",
            " [370915      5      4]]\n"
          ]
        }
      ]
    },
    {
      "cell_type": "markdown",
      "metadata": {
        "id": "r6rhPFMYxBmb"
      },
      "source": [
        "4. Посчитайте, для скольких рецептов указана продолжительность, равная нулю. Замените для таких строк значение в данном столбце на 1."
      ]
    },
    {
      "cell_type": "code",
      "source": [
        "#считает количество нулевых значений\n",
        "print(np.count_nonzero(data[:, 1] == 0))\n",
        "\n",
        "#заменяем нулевые значения единицей\n",
        "np.place(data, data==0, 1)\n",
        "\n",
        "#проверяем, не осталось ли нулей\n",
        "#(Да, можно и через np.count_nonzero, но надо попробовать всё)\n",
        "data[np.argsort(data[:, 1])]"
      ],
      "metadata": {
        "colab": {
          "base_uri": "https://localhost:8080/"
        },
        "id": "CSyZbp-Y6Rws",
        "outputId": "1ff84efa-699d-4921-90b5-9c39c35104bf"
      },
      "execution_count": 10,
      "outputs": [
        {
          "output_type": "stream",
          "name": "stdout",
          "text": [
            "479\n"
          ]
        },
        {
          "output_type": "execute_result",
          "data": {
            "text/plain": [
              "array([[      4896,          1,         14],\n",
              "       [      6975,          1,          8],\n",
              "       [      3492,          1,          7],\n",
              "       ...,\n",
              "       [    425681,     259205,          2],\n",
              "       [    216215,     259260,          7],\n",
              "       [    261647, 2147483647,          8]], dtype=int32)"
            ]
          },
          "metadata": {},
          "execution_count": 10
        }
      ]
    },
    {
      "cell_type": "markdown",
      "metadata": {
        "id": "Cvfvyda5xBmb"
      },
      "source": [
        "5. Посчитайте, сколько уникальных рецептов находится в датасете."
      ]
    },
    {
      "cell_type": "code",
      "source": [
        "#уникальные рецепты - это рецепты, у которых не повторяются минуты и количество ингредиентов\n",
        "len(np.unique(sliced, axis=0))"
      ],
      "metadata": {
        "colab": {
          "base_uri": "https://localhost:8080/"
        },
        "id": "05ODC6396lrS",
        "outputId": "f07d6d21-0e22-4ee0-e839-baa566eca7e1"
      },
      "execution_count": 11,
      "outputs": [
        {
          "output_type": "execute_result",
          "data": {
            "text/plain": [
              "4183"
            ]
          },
          "metadata": {},
          "execution_count": 11
        }
      ]
    },
    {
      "cell_type": "markdown",
      "metadata": {
        "id": "rWpZmwSqxBmb"
      },
      "source": [
        "6. Сколько и каких различных значений кол-ва ингредиентов присутвует в рецептах из датасета?"
      ]
    },
    {
      "cell_type": "code",
      "source": [
        "print(np.unique(data[:, 2], axis=0))\n",
        "print(np.unique(data[:, 2], axis=0).size)"
      ],
      "metadata": {
        "colab": {
          "base_uri": "https://localhost:8080/"
        },
        "id": "FwGRra7S6pUQ",
        "outputId": "406282f6-b16f-455f-85c1-11d1448c2cba"
      },
      "execution_count": 12,
      "outputs": [
        {
          "output_type": "stream",
          "name": "stdout",
          "text": [
            "[ 1  2  3  4  5  6  7  8  9 10 11 12 13 14 15 16 17 18 19 20 21 22 23 24\n",
            " 25 26 27 28 29 30 31 32 33 34 35 37 39]\n",
            "37\n"
          ]
        }
      ]
    },
    {
      "cell_type": "markdown",
      "metadata": {
        "id": "uVr08ZHaxBmc"
      },
      "source": [
        "7. Создайте версию массива, содержащую информацию только о рецептах, состоящих не более чем из 5 ингредиентов."
      ]
    },
    {
      "cell_type": "code",
      "source": [
        "under_five_data = data[data[:, 2] < 5]\n",
        "under_five_data"
      ],
      "metadata": {
        "colab": {
          "base_uri": "https://localhost:8080/"
        },
        "id": "b2PpAflW61Cy",
        "outputId": "dbb3dbb4-6b1e-4fff-8de3-3a2e70fee7df"
      },
      "execution_count": 13,
      "outputs": [
        {
          "output_type": "execute_result",
          "data": {
            "text/plain": [
              "array([[204134,      5,      3],\n",
              "       [ 25623,      6,      4],\n",
              "       [484223,     18,      4],\n",
              "       ...,\n",
              "       [227056,     30,      4],\n",
              "       [128811,     15,      4],\n",
              "       [370915,      5,      4]], dtype=int32)"
            ]
          },
          "metadata": {},
          "execution_count": 13
        }
      ]
    },
    {
      "cell_type": "markdown",
      "metadata": {
        "id": "_0Uvq9a3xBmc"
      },
      "source": [
        "8. Для каждого рецепта посчитайте, сколько в среднем ингредиентов приходится на одну минуту рецепта. Найдите максимальное значение этой величины для всего датасета"
      ]
    },
    {
      "cell_type": "code",
      "source": [
        "mean_ingredients_per_min = data[:, 2] / data[:, 1]\n",
        "np.max(mean_ingredients_per_min)"
      ],
      "metadata": {
        "id": "jN1gpbZy86gO",
        "colab": {
          "base_uri": "https://localhost:8080/"
        },
        "outputId": "e379f529-35a4-49a8-b6a0-aeed6e1d1617"
      },
      "execution_count": 14,
      "outputs": [
        {
          "output_type": "execute_result",
          "data": {
            "text/plain": [
              "24.0"
            ]
          },
          "metadata": {},
          "execution_count": 14
        }
      ]
    },
    {
      "cell_type": "markdown",
      "metadata": {
        "id": "no7qYQhExBmc"
      },
      "source": [
        "9. Вычислите среднее количество ингредиентов для топ-100 рецептов с наибольшей продолжительностью"
      ]
    },
    {
      "cell_type": "code",
      "source": [
        "top_sorted_data = data[data[:, 1].argsort()[::-1]][:100]\n",
        "\n",
        "np.mean(top_sorted_data[:,2])\n",
        "\n",
        "data[:, 1].argsort()"
      ],
      "metadata": {
        "colab": {
          "base_uri": "https://localhost:8080/"
        },
        "id": "1LEQLGZ287RW",
        "outputId": "0f591a15-a722-4142-b954-326c747e3517"
      },
      "execution_count": 15,
      "outputs": [
        {
          "output_type": "execute_result",
          "data": {
            "text/plain": [
              "array([89843,  1740, 28278, ..., 76939, 39484, 15653])"
            ]
          },
          "metadata": {},
          "execution_count": 15
        }
      ]
    },
    {
      "cell_type": "markdown",
      "metadata": {
        "id": "eD0FlBswxBmc"
      },
      "source": [
        "10. Выберите случайным образом и выведите информацию о 10 различных рецептах"
      ]
    },
    {
      "cell_type": "code",
      "source": [
        "arg_id = np.where(data[:, 0] > -1)[0] #получаем индексы всех элементов первого столбца\n",
        "rand_idx = np.random.choice(arg_id, size=10, replace=False) #выбирает 10 случайных\n",
        "\n",
        "data[rand_idx]"
      ],
      "metadata": {
        "id": "I5Su7AuZs0RJ",
        "colab": {
          "base_uri": "https://localhost:8080/"
        },
        "outputId": "00eed910-14df-45af-fc0b-3b601e296ef4"
      },
      "execution_count": 16,
      "outputs": [
        {
          "output_type": "execute_result",
          "data": {
            "text/plain": [
              "array([[200314,     20,      8],\n",
              "       [ 59504,     55,     16],\n",
              "       [248857,     45,      7],\n",
              "       [179325,     40,      6],\n",
              "       [358488,     30,      6],\n",
              "       [464540,     30,     14],\n",
              "       [370976,     70,     12],\n",
              "       [377252,     45,     12],\n",
              "       [ 27637,      5,     11],\n",
              "       [ 22292,     35,      9]], dtype=int32)"
            ]
          },
          "metadata": {},
          "execution_count": 16
        }
      ]
    },
    {
      "cell_type": "markdown",
      "metadata": {
        "id": "aidV0WLjxBmc"
      },
      "source": [
        "11. Выведите процент рецептов, кол-во ингредиентов в которых меньше среднего."
      ]
    },
    {
      "cell_type": "code",
      "source": [
        "mean_ing = np.mean(data[:, 2], axis=0)\n",
        "under_mean_ing_data = data[data[:, 2] < mean_ing]\n",
        "\n",
        "(np.shape(under_mean_ing_data)[0] * 100) / np.shape(data)[0]"
      ],
      "metadata": {
        "colab": {
          "base_uri": "https://localhost:8080/"
        },
        "id": "CCrhf4BHwSXy",
        "outputId": "586cf873-4a34-45bd-aea4-3f184fc3dee6"
      },
      "execution_count": 17,
      "outputs": [
        {
          "output_type": "execute_result",
          "data": {
            "text/plain": [
              "58.802"
            ]
          },
          "metadata": {},
          "execution_count": 17
        }
      ]
    },
    {
      "cell_type": "markdown",
      "metadata": {
        "id": "46Y8xSlTxBmc"
      },
      "source": [
        "12. Назовем \"простым\" такой рецепт, длительность выполнения которого не больше 20 минут и кол-во ингредиентов в котором не больше 5. Создайте версию датасета с дополнительным столбцом, значениями которого являются 1, если рецепт простой, и 0 в противном случае."
      ]
    },
    {
      "cell_type": "code",
      "source": [
        "is_simple = np.where((data[:, 1] < 20) & (data[:, 2] <= 5) , 1, 0)\n",
        "extended_data = np.column_stack((data, is_simple))\n",
        "extended_data"
      ],
      "metadata": {
        "colab": {
          "base_uri": "https://localhost:8080/"
        },
        "id": "meUaBFsg1GEL",
        "outputId": "f7e28bb2-f7eb-44ea-bbe9-65d6bf24f355"
      },
      "execution_count": 18,
      "outputs": [
        {
          "output_type": "execute_result",
          "data": {
            "text/plain": [
              "array([[127244,     60,     16,      0],\n",
              "       [ 23891,     25,      7,      0],\n",
              "       [ 94746,     10,      6,      0],\n",
              "       ...,\n",
              "       [498432,     65,     15,      0],\n",
              "       [370915,      5,      4,      1],\n",
              "       [ 81993,    140,     14,      0]])"
            ]
          },
          "metadata": {},
          "execution_count": 18
        }
      ]
    },
    {
      "cell_type": "markdown",
      "metadata": {
        "id": "aK1tEJwyxBmc"
      },
      "source": [
        "13. Выведите процент \"простых\" рецептов в датасете"
      ]
    },
    {
      "cell_type": "code",
      "source": [
        "(np.shape(extended_data[extended_data[:, 3] == 1])[0] * 100) / np.shape(data)[0]"
      ],
      "metadata": {
        "colab": {
          "base_uri": "https://localhost:8080/"
        },
        "id": "3x00tabW1Ga5",
        "outputId": "38fb7285-cba7-4b1a-d9a7-0fdeadd538b2"
      },
      "execution_count": 19,
      "outputs": [
        {
          "output_type": "execute_result",
          "data": {
            "text/plain": [
              "8.315"
            ]
          },
          "metadata": {},
          "execution_count": 19
        }
      ]
    },
    {
      "cell_type": "markdown",
      "metadata": {
        "id": "miHoECvMxBmd"
      },
      "source": [
        "14. Разделим рецепты на группы по следующему правилу. Назовем рецепты короткими, если их продолжительность составляет менее 10 минут; стандартными, если их продолжительность составляет более 10, но менее 20 минут; и длинными, если их продолжительность составляет не менее 20 минут. Создайте трехмерный массив, где нулевая ось отвечает за номер группы (короткий, стандартный или длинный рецепт), первая ось - за сам рецепт и вторая ось - за характеристики рецепта. Выберите максимальное количество рецептов из каждой группы таким образом, чтобы было возможно сформировать трехмерный массив. Выведите форму полученного массива."
      ]
    },
    {
      "cell_type": "code",
      "execution_count": 28,
      "metadata": {
        "id": "98cGizf6xBmd",
        "colab": {
          "base_uri": "https://localhost:8080/"
        },
        "outputId": "904ff320-4e44-45dd-ff9a-7a7388bd54c9"
      },
      "outputs": [
        {
          "output_type": "stream",
          "name": "stdout",
          "text": [
            "(12466, 3)\n",
            "(14184, 3)\n",
            "(73350, 3)\n"
          ]
        },
        {
          "output_type": "execute_result",
          "data": {
            "text/plain": [
              "array([[[ 94746,     10,      6],\n",
              "        [ 67660,      5,      6],\n",
              "        [366174,      7,      9],\n",
              "        ...,\n",
              "        [420725,      5,      3],\n",
              "        [  4747,      1,      9],\n",
              "        [370915,      5,      4]],\n",
              "\n",
              "       [[ 33941,     18,      9],\n",
              "        [446597,     15,      5],\n",
              "        [ 74205,     20,      7],\n",
              "        ...,\n",
              "        [230115,     20,      7],\n",
              "        [496131,     20,      9],\n",
              "        [365818,     20,      6]],\n",
              "\n",
              "       [[127244,     60,     16],\n",
              "        [ 23891,     25,      7],\n",
              "        [157911,     60,     14],\n",
              "        ...,\n",
              "        [ 68428,     70,     10],\n",
              "        [312995,   1445,      7],\n",
              "        [ 93651,    240,     12]]], dtype=int32)"
            ]
          },
          "metadata": {},
          "execution_count": 28
        }
      ],
      "source": [
        "simple = data[data[:, 1] <= 10]\n",
        "standard = data[(data[:, 1] > 10) & (data[:, 1] <= 20)]\n",
        "hard = data[data[:, 1] > 20]\n",
        "\n",
        "min_shape = np.min((np.shape(simple)[0], np.shape(standard)[0], np.shape(hard)[0]))\n",
        "data_cube = np.stack([\n",
        "    simple[:min_shape],\n",
        "    standard[:min_shape],\n",
        "    hard[:min_shape],\n",
        "])\n",
        "\n",
        "data_cube"
      ]
    }
  ],
  "metadata": {
    "kernelspec": {
      "display_name": "Python 3 (ipykernel)",
      "language": "python",
      "name": "python3"
    },
    "language_info": {
      "codemirror_mode": {
        "name": "ipython",
        "version": 3
      },
      "file_extension": ".py",
      "mimetype": "text/x-python",
      "name": "python",
      "nbconvert_exporter": "python",
      "pygments_lexer": "ipython3",
      "version": "3.9.12"
    },
    "colab": {
      "provenance": []
    }
  },
  "nbformat": 4,
  "nbformat_minor": 0
}